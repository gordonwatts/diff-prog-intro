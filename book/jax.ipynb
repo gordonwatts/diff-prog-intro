{
 "cells": [
  {
   "cell_type": "markdown",
   "metadata": {},
   "source": [
    "# Using JAX\n",
    "\n",
    "Here, we will use JAX to do both the simple method (with the heaviside function) and to explore taking a derivative of this the $S/\\sqrt{B}$."
   ]
  },
  {
   "cell_type": "code",
   "execution_count": 1,
   "metadata": {},
   "outputs": [],
   "source": [
    "import jax\n",
    "import jax.numpy as jnp\n",
    "import numpy\n",
    "import matplotlib.pyplot as plt\n",
    "from samples import data_sig, data_back\n",
    "\n",
    "_ = plt.ion()"
   ]
  },
  {
   "cell_type": "code",
   "execution_count": 2,
   "metadata": {},
   "outputs": [
    {
     "name": "stderr",
     "output_type": "stream",
     "text": [
      "WARNING:absl:No GPU/TPU found, falling back to CPU. (Set TF_CPP_MIN_LOG_LEVEL=0 and rerun for more info.)\n"
     ]
    }
   ],
   "source": [
    "# Convert the data to jax arrays\n",
    "data_sig_j = jnp.asarray(data_sig)\n",
    "data_back_j = jnp.asarray(data_back)"
   ]
  },
  {
   "cell_type": "markdown",
   "metadata": {},
   "source": [
    "## Using the Heaviside function\n",
    "\n",
    "The problem is the derivative is a delta function, and that probably does not work well for what we need to do here - not wide enough."
   ]
  },
  {
   "cell_type": "code",
   "execution_count": 3,
   "metadata": {},
   "outputs": [],
   "source": [
    "def wts_by_cut(data, cut:float):\n",
    "    'Calculate weights for a jax array by a cut using the heaviside function, simulating \">\"'\n",
    "\n",
    "    return jnp.heaviside(jnp.add(data, -cut), 0)\n",
    "\n",
    "def sig_sqrt_b(cut, apply_wt = wts_by_cut):\n",
    "    'Calculate the S/sqrt(B) for two 1D numpy arrays with the cut at cut.'\n",
    "\n",
    "    # Weight the data and then do the sum\n",
    "    wts_sig = apply_wt(data_sig_j, cut)\n",
    "    wts_back = apply_wt(data_back_j, cut)\n",
    "\n",
    "    S = jnp.sum(wts_sig)\n",
    "    B = jnp.sum(wts_back)\n",
    "\n",
    "    return S/jnp.sqrt(B)"
   ]
  },
  {
   "cell_type": "code",
   "execution_count": 4,
   "metadata": {},
   "outputs": [],
   "source": [
    "cut_values = numpy.linspace(-10.0, 10.0, 100)\n",
    "s_sqrt_b = numpy.array([sig_sqrt_b(c) for c in cut_values])"
   ]
  },
  {
   "cell_type": "code",
   "execution_count": 5,
   "metadata": {},
   "outputs": [
    {
     "name": "stdout",
     "output_type": "stream",
     "text": [
      "Max value of $S\\sqrt{B}$ occurs at 3.737 and is 22.44.\n"
     ]
    }
   ],
   "source": [
    "max_index = numpy.argmax(s_sqrt_b)\n",
    "print(rf\"Max value of $S\\sqrt{{B}}$ occurs at {cut_values[max_index]:0.4} and is {s_sqrt_b[max_index]:0.4}.\")"
   ]
  },
  {
   "cell_type": "markdown",
   "metadata": {},
   "source": [
    "### Gradient\n",
    "\n",
    "Try taking the gradient of this and seeing how it looks - looking for something that bottoms out around 3.737."
   ]
  },
  {
   "cell_type": "code",
   "execution_count": 6,
   "metadata": {},
   "outputs": [],
   "source": [
    "d_sig_sqrt_b = jax.grad(sig_sqrt_b)"
   ]
  },
  {
   "cell_type": "code",
   "execution_count": 7,
   "metadata": {},
   "outputs": [
    {
     "data": {
      "text/plain": [
       "array([0., 0., 0., 0., 0., 0., 0., 0., 0., 0., 0., 0., 0., 0., 0., 0., 0.,\n",
       "       0., 0., 0., 0., 0., 0., 0., 0., 0., 0., 0., 0., 0., 0., 0., 0., 0.,\n",
       "       0., 0., 0., 0., 0., 0., 0., 0., 0., 0., 0., 0., 0., 0., 0., 0., 0.,\n",
       "       0., 0., 0., 0., 0., 0., 0., 0., 0., 0., 0., 0., 0., 0., 0., 0., 0.,\n",
       "       0., 0., 0., 0., 0., 0., 0., 0., 0., 0., 0., 0., 0., 0., 0., 0., 0.,\n",
       "       0., 0., 0., 0., 0., 0., 0., 0., 0., 0., 0., 0., 0., 0., 0.])"
      ]
     },
     "execution_count": 7,
     "metadata": {},
     "output_type": "execute_result"
    }
   ],
   "source": [
    "numpy.array([float(d_sig_sqrt_b(c)) for c in cut_values])"
   ]
  },
  {
   "cell_type": "markdown",
   "metadata": {},
   "source": [
    "Nope - that isn't going to work!"
   ]
  },
  {
   "cell_type": "markdown",
   "metadata": {},
   "source": [
    "## Error Function\n",
    "\n",
    "Lets try the error function. First, we need to design one that has the right turn-on characteristics."
   ]
  },
  {
   "cell_type": "code",
   "execution_count": 8,
   "metadata": {},
   "outputs": [],
   "source": [
    "def erf(data, cut: float):\n",
    "    'Take a jax array and calculate an error function on it'\n",
    "    return (jax.lax.erf(data-cut)+1)/2.0"
   ]
  },
  {
   "cell_type": "code",
   "execution_count": 9,
   "metadata": {},
   "outputs": [
    {
     "data": {
      "image/png": "[encoded data removed]",
      "text/plain": [
       "<Figure size 640x480 with 1 Axes>"
      ]
     },
     "metadata": {},
     "output_type": "display_data"
    }
   ],
   "source": [
    "data = erf(cut_values, 0.0)\n",
    "plt.plot(cut_values, data)\n",
    "plt.xlabel('Cut Value')\n",
    "plt.ylabel('Modified Error Function')\n",
    "plt.show()"
   ]
  },
  {
   "cell_type": "code",
   "execution_count": 10,
   "metadata": {},
   "outputs": [],
   "source": [
    "def erf_sig_sqrt_b(cut: float):\n",
    "    return sig_sqrt_b(cut, erf)"
   ]
  },
  {
   "cell_type": "code",
   "execution_count": 11,
   "metadata": {},
   "outputs": [],
   "source": [
    "cut_values = numpy.linspace(-10.0, 10.0, 100)\n",
    "erf_s_sqrt_b = numpy.array([erf_sig_sqrt_b(c) for c in cut_values])"
   ]
  },
  {
   "cell_type": "code",
   "execution_count": 12,
   "metadata": {},
   "outputs": [
    {
     "name": "stdout",
     "output_type": "stream",
     "text": [
      "Max value of $S\\sqrt{B}$ occurs at 3.535 and is 20.88.\n"
     ]
    }
   ],
   "source": [
    "max_index = numpy.argmax(erf_s_sqrt_b)\n",
    "print(rf\"Max value of $S\\sqrt{{B}}$ occurs at {cut_values[max_index]:0.4} and is {erf_s_sqrt_b[max_index]:0.4}.\")\n",
    "erf_max_value = cut_values[max_index]"
   ]
  },
  {
   "cell_type": "markdown",
   "metadata": {},
   "source": [
    "Not exactly the same - but good enough for now. We can tune up that error function if we need to."
   ]
  },
  {
   "cell_type": "markdown",
   "metadata": {},
   "source": [
    "### Gradient\n",
    "\n",
    "Lets see if this behaves a little better when we have a gradient."
   ]
  },
  {
   "cell_type": "code",
   "execution_count": 13,
   "metadata": {},
   "outputs": [],
   "source": [
    "d_erf_sig_sqrt_b = jax.grad(erf_sig_sqrt_b)"
   ]
  },
  {
   "cell_type": "code",
   "execution_count": 14,
   "metadata": {},
   "outputs": [
    {
     "data": {
      "image/png": "[encoded data removed]",
      "text/plain": [
       "<Figure size 640x480 with 1 Axes>"
      ]
     },
     "metadata": {},
     "output_type": "display_data"
    }
   ],
   "source": [
    "plt.plot(cut_values, numpy.array([d_erf_sig_sqrt_b(c) for c in cut_values]))\n",
    "plt.xlabel('Cut Value')\n",
    "plt.ylabel(r'Gradient vs cut value of the $S/\\sqrt{B}$')\n",
    "plt.axhline(0.0, color='red')\n",
    "plt.axvline(erf_max_value, color='green')\n",
    "plt.show()"
   ]
  },
  {
   "cell_type": "markdown",
   "metadata": {},
   "source": [
    "That works! And we can see some gotchas here:\n",
    "\n",
    "* At the lower and upper limits of cut value we start to run out of data, and the $S\\sqrt{B}$ is either zero or undefined - which is a zero for the gradient. In short, one needs to limit where one searches or one will find a false possible value.\n",
    "* The zero point is about at the right place (the vertical (green) line matches the max point found above). Note it is slightly off, but that has more to do with the fact our `cut_value` may not contain the exact zero."
   ]
  }
 ],
 "metadata": {
  "kernelspec": {
   "display_name": "Python 3.8.10 ('.venv': venv)",
   "language": "python",
   "name": "python3"
  },
  "language_info": {
   "codemirror_mode": {
    "name": "ipython",
    "version": 3
   },
   "file_extension": ".py",
   "mimetype": "text/x-python",
   "name": "python",
   "nbconvert_exporter": "python",
   "pygments_lexer": "ipython3",
   "version": "3.8.10"
  },
  "orig_nbformat": 4,
  "vscode": {
   "interpreter": {
    "hash": "00c629f526c8a6b5207007fe5eba2e916abd0c528d6f87480b5adf7a9fb26eb7"
   }
  }
 },
 "nbformat": 4,
 "nbformat_minor": 2
}
