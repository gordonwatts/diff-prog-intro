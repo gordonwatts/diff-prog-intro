{
 "cells": [
  {
   "cell_type": "markdown",
   "metadata": {},
   "source": [
    "# Using JAX\n",
    "\n",
    "Here, we will use JAX to do both the simple method (with the heaviside function) and to explore taking a derivative of this the $S/\\sqrt{B}$."
   ]
  },
  {
   "cell_type": "code",
   "execution_count": 1,
   "metadata": {},
   "outputs": [],
   "source": [
    "import jax\n",
    "import jax.numpy as np\n",
    "import numpy\n",
    "from samples import data_sig, data_back"
   ]
  },
  {
   "cell_type": "code",
   "execution_count": 2,
   "metadata": {},
   "outputs": [
    {
     "name": "stderr",
     "output_type": "stream",
     "text": [
      "WARNING:absl:No GPU/TPU found, falling back to CPU. (Set TF_CPP_MIN_LOG_LEVEL=0 and rerun for more info.)\n"
     ]
    }
   ],
   "source": [
    "# Convert the data to jax arrays\n",
    "data_sig_j = np.asarray(data_sig)\n",
    "data_back_j = np.asarray(data_back)"
   ]
  },
  {
   "cell_type": "code",
   "execution_count": 3,
   "metadata": {},
   "outputs": [],
   "source": [
    "def wts_by_cut(data, cut:float):\n",
    "    'Calculate weights for a jax array by a cut using the heaviside function, simulating \">\"'\n",
    "\n",
    "    return np.heaviside(np.add(data, -cut), 0)\n",
    "\n",
    "def sig_sqrt_b(cut):\n",
    "    'Calculate the S/sqrt(B) for two 1D numpy arrays with the cut at cut.'\n",
    "\n",
    "    # Weight the data and then do the sum\n",
    "    wts_sig = wts_by_cut(data_sig_j, cut)\n",
    "    wts_back = wts_by_cut(data_back_j, cut)\n",
    "\n",
    "    S = np.sum(wts_sig)\n",
    "    B = np.sum(wts_back)\n",
    "\n",
    "    return S/np.sqrt(B)"
   ]
  },
  {
   "cell_type": "code",
   "execution_count": 4,
   "metadata": {},
   "outputs": [],
   "source": [
    "cut_values = numpy.linspace(-10.0, 10.0, 100)\n",
    "s_sqrt_b = numpy.array([sig_sqrt_b(c) for c in cut_values])"
   ]
  },
  {
   "cell_type": "code",
   "execution_count": 5,
   "metadata": {},
   "outputs": [
    {
     "name": "stdout",
     "output_type": "stream",
     "text": [
      "Max value of $S\\sqrt{B}$ occurs at 3.737 and is 22.44.\n"
     ]
    }
   ],
   "source": [
    "max_index = np.argmax(s_sqrt_b)\n",
    "print(rf\"Max value of $S\\sqrt{{B}}$ occurs at {cut_values[max_index]:0.4} and is {s_sqrt_b[max_index]:0.4}.\")"
   ]
  },
  {
   "cell_type": "markdown",
   "metadata": {},
   "source": [
    "## Gradient\n",
    "\n",
    "Lets calculate the gradient w.r.t. the cut along the same range to see what that looks like."
   ]
  },
  {
   "cell_type": "markdown",
   "metadata": {},
   "source": []
  }
 ],
 "metadata": {
  "kernelspec": {
   "display_name": "Python 3.8.10 ('.venv': venv)",
   "language": "python",
   "name": "python3"
  },
  "language_info": {
   "codemirror_mode": {
    "name": "ipython",
    "version": 3
   },
   "file_extension": ".py",
   "mimetype": "text/x-python",
   "name": "python",
   "nbconvert_exporter": "python",
   "pygments_lexer": "ipython3",
   "version": "3.8.10"
  },
  "orig_nbformat": 4,
  "vscode": {
   "interpreter": {
    "hash": "00c629f526c8a6b5207007fe5eba2e916abd0c528d6f87480b5adf7a9fb26eb7"
   }
  }
 },
 "nbformat": 4,
 "nbformat_minor": 2
}
