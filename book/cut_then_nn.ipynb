{
 "cells": [
  {
   "cell_type": "markdown",
   "metadata": {},
   "source": [
    "# Adding a cut in front of an NN\n",
    "\n",
    "Here we will add two cuts in front of the same NN we used last time."
   ]
  },
  {
   "cell_type": "code",
   "execution_count": 1,
   "metadata": {},
   "outputs": [
    {
     "name": "stderr",
     "output_type": "stream",
     "text": [
      "WARNING:absl:No GPU/TPU found, falling back to CPU. (Set TF_CPP_MIN_LOG_LEVEL=0 and rerun for more info.)\n"
     ]
    }
   ],
   "source": [
    "import jax\n",
    "import jax.numpy as jnp\n",
    "import numpy\n",
    "import matplotlib.pyplot as plt\n",
    "from samples import data_back, sig_avg, sig_width\n",
    "from jax_helpers import erf, train\n",
    "import haiku as hk\n",
    "from typing import List, Optional\n",
    "\n",
    "_ = plt.ion()"
   ]
  },
  {
   "cell_type": "markdown",
   "metadata": {},
   "source": [
    "Load up the 2D data.\n",
    "* To avoid normalization issues, we make the data sets the same size."
   ]
  },
  {
   "cell_type": "code",
   "execution_count": 2,
   "metadata": {},
   "outputs": [],
   "source": [
    "key = jax.random.PRNGKey(1234)\n",
    "signal_data = jax.random.multivariate_normal(key, jnp.asarray([1.5, 2.0]), jnp.asarray([[0.5, 0.2], [0.2, 0.5]]), [40000])\n",
    "key, _ = jax.random.split(key)\n",
    "background_data = jax.random.multivariate_normal(key, jnp.asarray([0.0, 0.0]), jnp.asarray([[9.0, 0.0], [0.0, 9.0]]), [40000])"
   ]
  },
  {
   "cell_type": "markdown",
   "metadata": {},
   "source": [
    "Build the training and truth data. Keep the testing and training data the same, and the full data sample."
   ]
  },
  {
   "cell_type": "code",
   "execution_count": 3,
   "metadata": {},
   "outputs": [],
   "source": [
    "all_data = jnp.concatenate((signal_data, background_data))\n",
    "all_truth = jnp.concatenate((jnp.ones(len(signal_data)), jnp.zeros(len(background_data))))\n",
    "\n",
    "training_data = all_data\n",
    "training_truth = all_truth\n",
    "\n",
    "testing_signal = signal_data\n",
    "testing_background = background_data"
   ]
  },
  {
   "cell_type": "markdown",
   "metadata": {},
   "source": [
    "## Building blocks for the network\n",
    "\n",
    "We will use the same network MLP as previous, but will add a parallel network that implements the cut. We'll multiply the result of this network by the MLP result, sot he cut can _turn on-turn off_ the MLP output.\n",
    "\n",
    "In order to do this, however, we have to build some new modules in `haiku`. We'll need:\n",
    "\n",
    "* Multiplication - `n -> 1` multiplies each row of the input together.\n",
    "* Selection Cut - implements the selection cut using the erf we used earlier in this book\n",
    "* Concatenate - takes two other modules and just concatenates the outputs of each together."
   ]
  },
  {
   "cell_type": "markdown",
   "metadata": {},
   "source": [
    "### Multiplication Module\n",
    "\n",
    "Implement a simple module that multiplies everything in a row."
   ]
  },
  {
   "cell_type": "code",
   "execution_count": 4,
   "metadata": {},
   "outputs": [],
   "source": [
    "class MultiplyRow(hk.Module):\n",
    "    'Multiply all elements of input together'\n",
    "\n",
    "    def __init__(self, name='Multiply'):\n",
    "        super().__init__(name=name)\n",
    "    \n",
    "    def __call__(self, x):\n",
    "        'Multiply all elements of x'\n",
    "        r = jnp.prod(x, axis=1)\n",
    "        return r"
   ]
  },
  {
   "cell_type": "markdown",
   "metadata": {},
   "source": [
    "### Selection Cut\n",
    "\n",
    "We'll use the code we used before in order to implement the cut."
   ]
  },
  {
   "cell_type": "code",
   "execution_count": 5,
   "metadata": {},
   "outputs": [],
   "source": [
    "class Selection(hk.Module):\n",
    "    \"\"\"Apply a selection cut to each input, output is a weight,\n",
    "    zero if the cut would reject, one if it would not\"\"\"\n",
    "\n",
    "    def __init__(\n",
    "        self, initial_cuts: Optional[List[float]] = None, name=\"SelectionCut\"\n",
    "    ):\n",
    "        super().__init__(name=name)\n",
    "        self._initial_cuts = initial_cuts\n",
    "\n",
    "    def __call__(self, x):\n",
    "        \"Apply a selection cut for everything\"\n",
    "\n",
    "        # See if we have a decent set of initializers\n",
    "        cuts_initial = (\n",
    "            jnp.asarray(self._initial_cuts)\n",
    "            if self._initial_cuts is not None\n",
    "            else jnp.ones(x.shape[1])\n",
    "        )\n",
    "        assert (\n",
    "            cuts_initial.shape[0] == x.shape[1]\n",
    "        ), f\"Incorrect number of initial cut values specified - need {x.shape[1]}\"\n",
    "\n",
    "        # Get the parameters to apply here\n",
    "        cuts = hk.get_parameter(\n",
    "            \"cuts\",\n",
    "            shape=[x.shape[1]],\n",
    "            dtype=jnp.float32,\n",
    "            init=lambda shp, dtyp: cuts_initial,\n",
    "        )\n",
    "\n",
    "        # Next, apply the cut\n",
    "        wts = (jax.lax.erf(x - cuts) + 1) / 2.0\n",
    "\n",
    "        return wts"
   ]
  },
  {
   "cell_type": "markdown",
   "metadata": {},
   "source": [
    "### Concatenate\n",
    "\n",
    "This layer is odd because it takes as input two other layers and feeds them together. So it doesn't exactly follow the previous patterns. We will only implement this for starting from the same data - because I do not know how to do this otherwise."
   ]
  },
  {
   "cell_type": "code",
   "execution_count": 6,
   "metadata": {},
   "outputs": [],
   "source": [
    "class ModuleConcat(hk.Module):\n",
    "    \"\"\"Concatenate the outputs of two different networks that\n",
    "    use the same data\"\"\"\n",
    "\n",
    "    def __init__(self, layers: List[hk.Module], name=\"ModuleConcat\"):\n",
    "        super().__init__(name=name)\n",
    "        self._layers = layers\n",
    "\n",
    "    def __call__(self, x):\n",
    "        layer_output = [layer(x) for layer in self._layers]\n",
    "\n",
    "        c = jnp.concatenate(layer_output, axis=1)\n",
    "        return c"
   ]
  },
  {
   "cell_type": "markdown",
   "metadata": {},
   "source": [
    "### Test the Selection Cut\n",
    "\n",
    "The error function has an issue that it has long plateaus when it is away from where it has \"an effect\". So we can't initialize with a value that is far outside where it might be cutting. In short - we have to choose our initial values carefully - we pick a randome spot along the x-axis and expect minimzation to get us to the right spot. Lets take a look at this, first by showing how the error function squared looks for a cut of -2.5 and the data is from -10 to 10."
   ]
  },
  {
   "cell_type": "code",
   "execution_count": 7,
   "metadata": {},
   "outputs": [],
   "source": [
    "select_model = hk.transform(lambda x: MultiplyRow()(Selection([-2.5, -2.5])(x)))\n",
    "_ = select_model.init(key, training_data)"
   ]
  },
  {
   "cell_type": "code",
   "execution_count": 8,
   "metadata": {},
   "outputs": [],
   "source": [
    "params = select_model.init(key, training_data)\n",
    "\n",
    "cut_range_values = jnp.linspace(-10.0, 10.0, 101)\n",
    "run_eval = [\n",
    "    select_model.apply(params, key, jnp.ones([10, 2])*c)[0]\n",
    "    for c in cut_range_values\n",
    "]"
   ]
  },
  {
   "cell_type": "code",
   "execution_count": 9,
   "metadata": {},
   "outputs": [
    {
     "data": {
      "image/png": "[encoded data removed]",
      "text/plain": [
       "<Figure size 640x480 with 1 Axes>"
      ]
     },
     "metadata": {},
     "output_type": "display_data"
    }
   ],
   "source": [
    "plt.plot(cut_range_values, run_eval)\n",
    "plt.xlabel('Value')\n",
    "plt.xlabel('ERF^2 output (cut at -2.5')\n",
    "plt.show()"
   ]
  },
  {
   "cell_type": "markdown",
   "metadata": {},
   "source": [
    "Next, lets look at the loss function we are using - here we'll see there are plateaus along which a minimization algorithm isn't going to be able to decide how to optimize the cut (hence we must choose the cut varefully)."
   ]
  },
  {
   "cell_type": "code",
   "execution_count": 10,
   "metadata": {},
   "outputs": [
    {
     "data": {
      "image/png": "[encoded data removed]",
      "text/plain": [
       "<Figure size 640x480 with 1 Axes>"
      ]
     },
     "metadata": {},
     "output_type": "display_data"
    }
   ],
   "source": [
    "from jax_helpers import NegLogLoss\n",
    "\n",
    "params = select_model.init(key, training_data)\n",
    "\n",
    "cut_range_values = jnp.linspace(-10.0, 10.0, 101)\n",
    "cut_loss = [\n",
    "    NegLogLoss(\n",
    "        select_model,\n",
    "        key,\n",
    "        {\"SelectionCut\": {\"cuts\": jnp.asarray([v, v])}},\n",
    "        training_data,\n",
    "        training_truth,\n",
    "    )\n",
    "    for v in cut_range_values\n",
    "]\n",
    "\n",
    "plt.plot(cut_range_values, cut_loss)\n",
    "plt.xlabel(\"Cut Value\")\n",
    "plt.ylabel(\"Neg Log Loss\")\n",
    "plt.show()"
   ]
  },
  {
   "cell_type": "code",
   "execution_count": 11,
   "metadata": {},
   "outputs": [
    {
     "data": {
      "image/png": "[encoded data removed]",
      "text/plain": [
       "<Figure size 640x480 with 1 Axes>"
      ]
     },
     "metadata": {},
     "output_type": "display_data"
    }
   ],
   "source": [
    "preds = select_model.apply({'SelectionCut': {'cuts': jnp.asarray([-3.4, -3.6])}}, key, training_data)\n",
    "preds = preds.squeeze()\n",
    "preds = jax.nn.sigmoid(preds)\n",
    "plt.hist(preds, bins=100)\n",
    "plt.yscale('log')\n",
    "plt.show()"
   ]
  },
  {
   "cell_type": "markdown",
   "metadata": {},
   "source": [
    "Any cut value greater than 2.5 (remember there are two cut values here) is likely to cause a problem. And any cut value less than -10.0 is going to cause a problem. Starting at 0 or -2.5, for example. should be fine.\n",
    "\n",
    "Note that we've taken a short cut here and used our knowledge of the training data to determine that -2.5 is good for both cuts. If this were really a new problem we'd need to evaluate this with each cut individually. In reality any value where there is data should be fine - which suggests an easy way to start (say the median of each data for a straight up cut?)."
   ]
  },
  {
   "cell_type": "markdown",
   "metadata": {},
   "source": [
    "Lets try a training and see how the training algorithm works with this."
   ]
  },
  {
   "cell_type": "code",
   "execution_count": 12,
   "metadata": {},
   "outputs": [],
   "source": [
    "select_params = train(\n",
    "    model=select_model,\n",
    "    key=key,\n",
    "    epochs=1000,\n",
    "    training_data=training_data,\n",
    "    training_truth=training_truth,\n",
    ")"
   ]
  },
  {
   "cell_type": "code",
   "execution_count": null,
   "metadata": {},
   "outputs": [],
   "source": [
    "print (select_params)"
   ]
  },
  {
   "cell_type": "code",
   "execution_count": null,
   "metadata": {},
   "outputs": [],
   "source": [
    "def plot_contour(data):\n",
    "    counts,xbins,ybins,_ = plt.hist2d(data[:, 0], data[:, 1], bins=50, range=((-10, 10), (-10, 10)))\n",
    "    plt.contour(counts.transpose(),extent=[xbins[0],xbins[-1],ybins[0],ybins[-1]], linewidths=3, cmap = plt.cm.rainbow, levels = [1,5,10,25,50,70,80,100])\n",
    "\n",
    "plot_contour(signal_data)\n",
    "plot_contour(background_data)\n",
    "cut_values = select_params['SelectionCut']['cuts']\n",
    "plt.axhline(cut_values[1])\n",
    "plt.axvline(cut_values[0])\n",
    "plt.show()"
   ]
  },
  {
   "cell_type": "markdown",
   "metadata": {},
   "source": [
    "In order to get the training to work efficiently, I had add the Adam optimizer to the training loop above. That also meant what was taking a lot more than 20K training now takes about 1000 (and it hadn't reached the optimal state by 20K either)."
   ]
  },
  {
   "cell_type": "markdown",
   "metadata": {},
   "source": [
    "## MLP + Selection Cut Network\n",
    "\n",
    "Build the forward network that combines all of this now."
   ]
  },
  {
   "cell_type": "code",
   "execution_count": null,
   "metadata": {},
   "outputs": [],
   "source": [
    "def FeedForward(x):\n",
    "    # The NN training\n",
    "    mlp = hk.nets.MLP(output_sizes=[2,15,30,15,1])\n",
    "\n",
    "    # The selection\n",
    "    selection = Selection(initial_cuts=[0.0, 0.0])\n",
    "\n",
    "    # Now the concat. Both these operate on the same input data (the tuple of\n",
    "    # values) - which is required for this concat to work.\n",
    "    combined = ModuleConcat([mlp, selection])\n",
    "\n",
    "    # And then the multiply\n",
    "    final = MultiplyRow()\n",
    "\n",
    "    # And put them together in the proper way\n",
    "    return final(combined(x))\n",
    "\n",
    "model = hk.transform(FeedForward)"
   ]
  },
  {
   "cell_type": "markdown",
   "metadata": {},
   "source": [
    "## Train\n",
    "\n",
    "The training loop is the same as others we've used:"
   ]
  },
  {
   "cell_type": "code",
   "execution_count": null,
   "metadata": {},
   "outputs": [],
   "source": [
    "params = train(model=model,\n",
    "    key = key, \n",
    "    epochs = 10000,\n",
    "    training_data=training_data,\n",
    "    training_truth=training_truth,\n",
    "    learning_rate = 0.0002)"
   ]
  },
  {
   "cell_type": "code",
   "execution_count": null,
   "metadata": {},
   "outputs": [],
   "source": [
    "def plot_it(data, lbl):\n",
    "    preds = model.apply(params, key, data)\n",
    "    preds = preds.squeeze()\n",
    "    # preds = jax.nn.sigmoid(preds)\n",
    "    # preds = jnp.log(preds)\n",
    "    plt.hist(preds, bins=100, label=lbl, range=(-90, 10), alpha=0.5)\n",
    "\n",
    "\n",
    "plot_it(signal_data, \"signal\")\n",
    "plot_it(background_data, \"background\")\n",
    "plt.yscale(\"log\")\n",
    "plt.xlabel(\"Prediction Values\")\n",
    "plt.legend()\n",
    "plt.show()"
   ]
  },
  {
   "cell_type": "markdown",
   "metadata": {},
   "source": [
    "## Examining the Training"
   ]
  },
  {
   "cell_type": "markdown",
   "metadata": {},
   "source": [
    "First, lets take a look at the cut parameters to see where they ended up (remember, they were initialized to `1`)."
   ]
  },
  {
   "cell_type": "code",
   "execution_count": null,
   "metadata": {},
   "outputs": [],
   "source": [
    "trained_cut_values = params['SelectionCut']['cuts']\n",
    "trained_cut_values"
   ]
  },
  {
   "cell_type": "markdown",
   "metadata": {},
   "source": [
    "Lets look at this graphically, showing a scatter plot of good and bad. First the prediction!"
   ]
  },
  {
   "cell_type": "code",
   "execution_count": null,
   "metadata": {},
   "outputs": [],
   "source": [
    "def infer(data, p, m = model):\n",
    "    test_preds = m.apply(p, key, data)\n",
    "    test_preds = jax.nn.sigmoid(test_preds.squeeze())\n",
    "    test_preds = (test_preds > 0.5).astype(jnp.float32)\n",
    "    return test_preds\n",
    "\n",
    "infer_signal = infer(testing_signal, params)\n",
    "infer_background = infer(testing_background, params)"
   ]
  },
  {
   "cell_type": "markdown",
   "metadata": {},
   "source": [
    "Next, plot the classified and mis-classified signal and background"
   ]
  },
  {
   "cell_type": "code",
   "execution_count": null,
   "metadata": {},
   "outputs": [],
   "source": [
    "def plot_inference(data, results, value, title):\n",
    "    good_data = data[results == value]\n",
    "    plt.scatter(good_data[:, 0], good_data[:, 1], color='green', label='correct')\n",
    "    bad_data = data[results != value]\n",
    "    plt.scatter(bad_data[:, 0], bad_data[:, 1], color='red', label='misclassified')\n",
    "    plt.title(title)\n",
    "    plt.legend()\n",
    "\n",
    "def plot_in_and_out(i_signal, i_background, cuts = None):\n",
    "    plot_inference(testing_signal, i_signal, 1.0, 'Signal')\n",
    "    if cuts is not None:\n",
    "        plt.axhline(cuts[1])\n",
    "        plt.axvline(cuts[0])\n",
    "    plt.show()\n",
    "    plot_inference(testing_background, i_background, 0.0, 'Background')\n",
    "    if cuts is not None:\n",
    "        plt.axhline(cuts[1])\n",
    "        plt.axvline(cuts[0])\n",
    "    plt.show()\n",
    "\n",
    "plot_in_and_out(infer_signal, infer_background, trained_cut_values)"
   ]
  },
  {
   "cell_type": "code",
   "execution_count": null,
   "metadata": {},
   "outputs": [],
   "source": [
    "plot_contour(signal_data)\n",
    "plot_contour(background_data)\n",
    "cut_values = select_params['SelectionCut']['cuts']\n",
    "plt.axhline(trained_cut_values[1])\n",
    "plt.axvline(trained_cut_values[0])\n",
    "plt.show()"
   ]
  },
  {
   "cell_type": "markdown",
   "metadata": {},
   "source": [
    "Lets take apart the performance of the two components (the cut and the NN), and look at their performance individually, but with the training values that are used here."
   ]
  },
  {
   "cell_type": "code",
   "execution_count": null,
   "metadata": {},
   "outputs": [],
   "source": [
    "model_mlp_only = hk.transform(lambda x: hk.nets.MLP(output_sizes=[2,15,30,30,15,1])(x))\n",
    "model_selection_only = hk.transform(lambda x: MultiplyRow()(Selection(initial_cuts=[0.0, 0.0])(x)))"
   ]
  },
  {
   "cell_type": "code",
   "execution_count": null,
   "metadata": {},
   "outputs": [],
   "source": [
    "def do_sig_b_infer(m):\n",
    "    return (\n",
    "        infer(testing_signal, params, m=m),\n",
    "        infer(testing_background, params, m=m)\n",
    "    )\n",
    "infer_s_mlp, infer_b_mlp = do_sig_b_infer(model_mlp_only)\n",
    "infer_s_sel, infer_b_sel = do_sig_b_infer(model_selection_only)"
   ]
  },
  {
   "cell_type": "code",
   "execution_count": null,
   "metadata": {},
   "outputs": [],
   "source": [
    "plot_in_and_out(infer_s_mlp, infer_b_mlp)"
   ]
  },
  {
   "cell_type": "code",
   "execution_count": null,
   "metadata": {},
   "outputs": [],
   "source": [
    "plot_in_and_out(infer_s_sel, infer_b_sel)"
   ]
  },
  {
   "cell_type": "code",
   "execution_count": null,
   "metadata": {},
   "outputs": [],
   "source": [
    "params['SelectionCut']"
   ]
  },
  {
   "cell_type": "code",
   "execution_count": null,
   "metadata": {},
   "outputs": [],
   "source": []
  }
 ],
 "metadata": {
  "kernelspec": {
   "display_name": "Python 3.10.4 ('.venv': venv)",
   "language": "python",
   "name": "python3"
  },
  "language_info": {
   "codemirror_mode": {
    "name": "ipython",
    "version": 3
   },
   "file_extension": ".py",
   "mimetype": "text/x-python",
   "name": "python",
   "nbconvert_exporter": "python",
   "pygments_lexer": "ipython3",
   "version": "3.8.10"
  },
  "orig_nbformat": 4,
  "vscode": {
   "interpreter": {
    "hash": "b0c0cd579b9b65b6f7f02a2adf7dab509e26f148f1ed1810ff799035d2e7aac7"
   }
  }
 },
 "nbformat": 4,
 "nbformat_minor": 2
}
